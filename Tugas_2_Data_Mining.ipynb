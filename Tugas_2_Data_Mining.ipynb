{
  "cells": [
    {
      "cell_type": "code",
      "execution_count": null,
      "metadata": {
        "id": "2DKDpXsb8Tym"
      },
      "outputs": [],
      "source": [
        "import numpy as np\n",
        "import matplotlib.pyplot as plt\n",
        "import pandas as pd"
      ]
    },
    {
      "cell_type": "code",
      "execution_count": 192,
      "metadata": {
        "id": "JPDFYyq7G_RF"
      },
      "outputs": [],
      "source": [
        "dataset = pd.read_csv('horse.csv')\n",
        "x = dataset.iloc[:,np.r_[1:27]].values\n",
        "y = dataset.iloc[:,0].values"
      ]
    },
    {
      "cell_type": "code",
      "execution_count": 193,
      "metadata": {
        "id": "kb9GarmBH-8Z",
        "colab": {
          "base_uri": "https://localhost:8080/"
        },
        "outputId": "57aae741-bfbe-45af-997f-e666564a10c2"
      },
      "outputs": [
        {
          "output_type": "stream",
          "name": "stdout",
          "text": [
            "[['adult' 530101 38.5 ... 11300 0 0]\n",
            " ['adult' 534817 39.2 ... 2208 0 0]\n",
            " ['adult' 530334 38.3 ... 0 0 0]\n",
            " ...\n",
            " ['adult' 529386 37.5 ... 3205 0 0]\n",
            " ['adult' 530612 36.5 ... 2208 0 0]\n",
            " ['adult' 534618 37.2 ... 6112 0 0]]\n"
          ]
        }
      ],
      "source": [
        "print(x)"
      ]
    },
    {
      "cell_type": "code",
      "execution_count": null,
      "metadata": {
        "colab": {
          "base_uri": "https://localhost:8080/"
        },
        "id": "fPYNdjZzIR6J",
        "outputId": "8937fe2f-6d97-4624-8fe6-12fe05ac0641"
      },
      "outputs": [
        {
          "output_type": "stream",
          "name": "stdout",
          "text": [
            "['no' 'yes' 'no' 'yes' 'no' 'no' 'yes' 'yes' 'no' 'no' 'yes' 'no' 'yes'\n",
            " 'no' 'yes' 'yes' 'yes' 'no' 'yes' 'no' 'yes' 'no' 'yes' 'yes' 'yes' 'no'\n",
            " 'yes' 'yes' 'yes' 'no' 'no' 'no' 'yes' 'yes' 'yes' 'no' 'no' 'yes' 'no'\n",
            " 'yes' 'yes' 'no' 'no' 'yes' 'yes' 'no' 'yes' 'no' 'yes' 'no' 'no' 'yes'\n",
            " 'no' 'no' 'no' 'yes' 'yes' 'yes' 'yes' 'no' 'no' 'no' 'yes' 'no' 'yes'\n",
            " 'yes' 'no' 'no' 'no' 'no' 'no' 'yes' 'yes' 'yes' 'yes' 'yes' 'yes' 'no'\n",
            " 'yes' 'yes' 'yes' 'yes' 'yes' 'yes' 'yes' 'no' 'yes' 'no' 'no' 'no' 'no'\n",
            " 'no' 'no' 'no' 'no' 'yes' 'no' 'yes' 'no' 'no' 'yes' 'yes' 'no' 'yes'\n",
            " 'yes' 'yes' 'yes' 'no' 'yes' 'yes' 'yes' 'yes' 'yes' 'yes' 'yes' 'no'\n",
            " 'yes' 'no' 'yes' 'no' 'yes' 'yes' 'no' 'yes' 'no' 'yes' 'yes' 'yes' 'yes'\n",
            " 'yes' 'yes' 'no' 'no' 'yes' 'yes' 'yes' 'yes' 'no' 'no' 'yes' 'no' 'yes'\n",
            " 'yes' 'yes' 'no' 'yes' 'no' 'yes' 'no' 'no' 'yes' 'yes' 'no' 'no' 'no'\n",
            " 'no' 'yes' 'no' 'no' 'yes' 'yes' 'no' 'yes' 'yes' 'yes' 'yes' 'no' 'yes'\n",
            " 'yes' 'no' 'no' 'yes' 'yes' 'no' 'yes' 'yes' 'yes' 'yes' 'no' 'yes' 'no'\n",
            " 'yes' 'no' 'no' 'yes' 'yes' 'yes' 'yes' 'yes' 'yes' 'no' 'yes' 'yes' 'no'\n",
            " 'no' 'no' 'no' 'no' 'no' 'yes' 'yes' 'yes' 'no' 'yes' 'no' 'yes' 'yes'\n",
            " 'yes' 'no' 'yes' 'yes' 'yes' 'yes' 'no' 'yes' 'no' 'yes' 'yes' 'yes'\n",
            " 'yes' 'yes' 'yes' 'yes' 'yes' 'no' 'yes' 'yes' 'yes' 'yes' 'yes' 'no'\n",
            " 'yes' 'yes' 'no' 'yes' 'no' 'no' 'no' 'yes' 'yes' 'yes' 'yes' 'yes' 'yes'\n",
            " 'no' 'yes' 'yes' 'yes' 'no' 'yes' 'no' 'yes' 'no' 'yes' 'yes' 'yes' 'yes'\n",
            " 'no' 'yes' 'no' 'no' 'no' 'yes' 'yes' 'no' 'no' 'no' 'yes' 'yes' 'yes'\n",
            " 'yes' 'yes' 'yes' 'yes' 'yes' 'yes' 'no' 'no' 'no' 'yes' 'no' 'yes' 'yes'\n",
            " 'no' 'yes' 'no' 'no' 'yes' 'yes' 'no' 'yes' 'yes' 'yes' 'no' 'yes' 'no'\n",
            " 'yes' 'yes' 'yes']\n"
          ]
        }
      ],
      "source": [
        "print(y)"
      ]
    },
    {
      "cell_type": "code",
      "execution_count": null,
      "metadata": {
        "id": "tliVpM6bIgu9"
      },
      "outputs": [],
      "source": [
        "from sklearn.impute import SimpleImputer\n",
        "imputer = SimpleImputer(missing_values=np.nan, strategy='most_frequent')\n",
        "imputer.fit(x[:, 1:27])\n",
        "x[:, 1:27] = imputer.transform(x[:, 1:27])"
      ]
    },
    {
      "cell_type": "code",
      "execution_count": null,
      "metadata": {
        "colab": {
          "base_uri": "https://localhost:8080/"
        },
        "id": "-dmcXYMLJcDf",
        "outputId": "e8da6cdd-8c00-4e3c-e775-268b771c009f"
      },
      "outputs": [
        {
          "output_type": "stream",
          "name": "stdout",
          "text": [
            "[['adult' 530101 38.5 ... 11300 0 0]\n",
            " ['adult' 534817 39.2 ... 2208 0 0]\n",
            " ['adult' 530334 38.3 ... 0 0 0]\n",
            " ...\n",
            " ['adult' 529386 37.5 ... 3205 0 0]\n",
            " ['adult' 530612 36.5 ... 2208 0 0]\n",
            " ['adult' 534618 37.2 ... 6112 0 0]]\n"
          ]
        }
      ],
      "source": [
        "print(x)"
      ]
    },
    {
      "cell_type": "code",
      "execution_count": null,
      "metadata": {
        "id": "PTFBpzBBJt65"
      },
      "outputs": [],
      "source": [
        "from sklearn.compose import ColumnTransformer\n",
        "from sklearn.preprocessing import OneHotEncoder\n",
        "ct = ColumnTransformer(transformers=[('encoder', OneHotEncoder(), [0,5,6,7,8,9,10,11,12,13,15,16,19,21,22])], remainder='passthrough')\n",
        "x1 = np.array(ct.fit_transform(x))"
      ]
    },
    {
      "cell_type": "code",
      "execution_count": null,
      "metadata": {
        "colab": {
          "base_uri": "https://localhost:8080/"
        },
        "id": "P_9GQ4P3KuNV",
        "outputId": "4787b936-33d2-45bd-9346-559874c354dc"
      },
      "outputs": [
        {
          "output_type": "stream",
          "name": "stdout",
          "text": [
            "[[1.0 0.0 0.0 ... 11300 0 0]\n",
            " [1.0 0.0 0.0 ... 2208 0 0]\n",
            " [1.0 0.0 0.0 ... 0 0 0]\n",
            " ...\n",
            " [1.0 0.0 1.0 ... 3205 0 0]\n",
            " [1.0 0.0 0.0 ... 2208 0 0]\n",
            " [1.0 0.0 0.0 ... 6112 0 0]]\n"
          ]
        }
      ],
      "source": [
        "print(x1)"
      ]
    },
    {
      "cell_type": "code",
      "execution_count": null,
      "metadata": {
        "id": "c73-6zWjLBgo"
      },
      "outputs": [],
      "source": [
        "from sklearn.preprocessing import LabelEncoder\n",
        "le = LabelEncoder()\n",
        "y1 = le.fit_transform(y)"
      ]
    },
    {
      "cell_type": "code",
      "execution_count": null,
      "metadata": {
        "id": "Go3MqGP-LS5P",
        "colab": {
          "base_uri": "https://localhost:8080/"
        },
        "outputId": "f2e89417-37ef-4e52-d8d1-c68a881f2ddc"
      },
      "outputs": [
        {
          "output_type": "stream",
          "name": "stdout",
          "text": [
            "[0 1 0 1 0 0 1 1 0 0 1 0 1 0 1 1 1 0 1 0 1 0 1 1 1 0 1 1 1 0 0 0 1 1 1 0 0\n",
            " 1 0 1 1 0 0 1 1 0 1 0 1 0 0 1 0 0 0 1 1 1 1 0 0 0 1 0 1 1 0 0 0 0 0 1 1 1\n",
            " 1 1 1 0 1 1 1 1 1 1 1 0 1 0 0 0 0 0 0 0 0 1 0 1 0 0 1 1 0 1 1 1 1 0 1 1 1\n",
            " 1 1 1 1 0 1 0 1 0 1 1 0 1 0 1 1 1 1 1 1 0 0 1 1 1 1 0 0 1 0 1 1 1 0 1 0 1\n",
            " 0 0 1 1 0 0 0 0 1 0 0 1 1 0 1 1 1 1 0 1 1 0 0 1 1 0 1 1 1 1 0 1 0 1 0 0 1\n",
            " 1 1 1 1 1 0 1 1 0 0 0 0 0 0 1 1 1 0 1 0 1 1 1 0 1 1 1 1 0 1 0 1 1 1 1 1 1\n",
            " 1 1 0 1 1 1 1 1 0 1 1 0 1 0 0 0 1 1 1 1 1 1 0 1 1 1 0 1 0 1 0 1 1 1 1 0 1\n",
            " 0 0 0 1 1 0 0 0 1 1 1 1 1 1 1 1 1 0 0 0 1 0 1 1 0 1 0 0 1 1 0 1 1 1 0 1 0\n",
            " 1 1 1]\n"
          ]
        }
      ],
      "source": [
        "print(y1)"
      ]
    },
    {
      "cell_type": "code",
      "execution_count": null,
      "metadata": {
        "id": "-fBBg0UWLryt"
      },
      "outputs": [],
      "source": [
        "from sklearn.model_selection import train_test_split\n",
        "x_train, x_test, y_train, y_test = train_test_split(x1, y1, test_size=0.2, random_state=1)"
      ]
    },
    {
      "cell_type": "code",
      "execution_count": null,
      "metadata": {
        "id": "h4nkKTl6MXuJ",
        "colab": {
          "base_uri": "https://localhost:8080/"
        },
        "outputId": "67bb196d-60dd-447a-a64c-e067b415a21c"
      },
      "outputs": [
        {
          "output_type": "stream",
          "name": "stdout",
          "text": [
            "[[1.0 0.0 0.0 ... 0 0 0]\n",
            " [1.0 0.0 0.0 ... 3111 0 0]\n",
            " [1.0 0.0 0.0 ... 2111 0 0]\n",
            " ...\n",
            " [1.0 0.0 0.0 ... 2113 0 0]\n",
            " [1.0 0.0 0.0 ... 3111 0 0]\n",
            " [1.0 0.0 0.0 ... 3111 0 0]]\n"
          ]
        }
      ],
      "source": [
        "print(x_train)"
      ]
    },
    {
      "cell_type": "code",
      "execution_count": null,
      "metadata": {
        "id": "oVehWU-sMoX7",
        "colab": {
          "base_uri": "https://localhost:8080/"
        },
        "outputId": "02e93425-9373-438c-b5ab-1adcca469851"
      },
      "outputs": [
        {
          "output_type": "stream",
          "name": "stdout",
          "text": [
            "[[1.0 0.0 0.0 ... 3400 0 0]\n",
            " [1.0 0.0 0.0 ... 2124 0 0]\n",
            " [1.0 0.0 0.0 ... 7209 0 0]\n",
            " ...\n",
            " [1.0 0.0 0.0 ... 0 0 0]\n",
            " [1.0 0.0 0.0 ... 2207 0 0]\n",
            " [1.0 0.0 0.0 ... 5124 0 0]]\n"
          ]
        }
      ],
      "source": [
        "print(x_test)"
      ]
    },
    {
      "cell_type": "code",
      "execution_count": null,
      "metadata": {
        "id": "HOqPlt8xMwaD",
        "colab": {
          "base_uri": "https://localhost:8080/"
        },
        "outputId": "37350a6c-d41c-495e-85b9-bb1a0c0f11e1"
      },
      "outputs": [
        {
          "output_type": "stream",
          "name": "stdout",
          "text": [
            "[0 0 1 1 1 1 1 0 1 0 0 1 0 1 1 0 0 0 1 0 0 1 1 1 1 0 1 0 1 0 1 1 0 1 1 1 0\n",
            " 1 0 1 1 1 0 1 1 0 0 1 0 1 0 0 1 1 1 1 1 0 0 1 1 0 1 0 0 0 0 0 1 0 1 1 1 0\n",
            " 0 1 0 1 0 1 0 0 0 1 0 1 1 1 0 1 1 1 1 1 0 0 1 1 1 1 1 0 1 1 1 0 0 0 0 1 1\n",
            " 0 0 0 1 1 1 1 1 0 0 0 1 0 0 1 1 1 0 1 1 0 0 1 0 0 1 0 1 1 1 0 1 1 1 0 1 0\n",
            " 1 0 0 0 1 1 1 1 0 1 1 0 1 1 1 1 0 1 0 1 1 0 1 1 1 1 1 1 0 1 1 1 0 1 1 1 1\n",
            " 1 0 0 1 1 0 0 1 0 1 1 0 0 1 1 1 1 1 1 1 0 1 0 1 0 0 1 0 1 1 1 1 1 1 1 0 0\n",
            " 0 1 0 1 0 0 1 0 1 1 0 1 1 1 1 0 1]\n"
          ]
        }
      ],
      "source": [
        "print(y_train)"
      ]
    },
    {
      "cell_type": "code",
      "execution_count": null,
      "metadata": {
        "id": "KjwFgNXiM15F",
        "colab": {
          "base_uri": "https://localhost:8080/"
        },
        "outputId": "d0ff5a35-00ed-4a06-c067-487c2a3191a2"
      },
      "outputs": [
        {
          "output_type": "stream",
          "name": "stdout",
          "text": [
            "[0 1 1 0 1 0 1 1 1 1 1 0 0 0 1 0 1 1 0 0 1 1 0 1 0 1 1 1 1 0 0 1 0 0 0 1 1\n",
            " 0 0 1 0 0 0 1 1 1 1 1 1 1 1 1 1 0 1 1 1 0 1 1]\n"
          ]
        }
      ],
      "source": [
        "print(y_test)"
      ]
    },
    {
      "cell_type": "code",
      "execution_count": null,
      "metadata": {
        "id": "8wPE4Hb5NLhP"
      },
      "outputs": [],
      "source": [
        "from sklearn.preprocessing import StandardScaler\n",
        "sc = StandardScaler()\n",
        "x_train[:, 3:] = sc.fit_transform(x_train[:, 3:])\n",
        "x_test[:, 3:] = sc.transform(x_test[:, 3:])"
      ]
    },
    {
      "cell_type": "code",
      "execution_count": null,
      "metadata": {
        "id": "dJVHGwyZOC6U",
        "colab": {
          "base_uri": "https://localhost:8080/"
        },
        "outputId": "e3559029-e4c8-4db3-98ba-96e126589c21"
      },
      "outputs": [
        {
          "output_type": "stream",
          "name": "stdout",
          "text": [
            "[[1.0 0.0 0.0 ... -0.7310536753629666 -0.15626860163120768\n",
            "  -0.06482037235521627]\n",
            " [1.0 0.0 0.0 ... -0.06917376728666311 -0.15626860163120768\n",
            "  -0.06482037235521627]\n",
            " [1.0 0.0 0.0 ... -0.281928478979464 -0.15626860163120768\n",
            "  -0.06482037235521627]\n",
            " ...\n",
            " [1.0 0.0 0.0 ... -0.2815029695560784 -0.15626860163120768\n",
            "  -0.06482037235521627]\n",
            " [1.0 0.0 0.0 ... -0.06917376728666311 -0.15626860163120768\n",
            "  -0.06482037235521627]\n",
            " [1.0 0.0 0.0 ... -0.06917376728666311 -0.15626860163120768\n",
            "  -0.06482037235521627]]\n"
          ]
        }
      ],
      "source": [
        "print(x_train)"
      ]
    },
    {
      "cell_type": "code",
      "execution_count": null,
      "metadata": {
        "id": "uVN7n0clOOTM",
        "colab": {
          "base_uri": "https://localhost:8080/"
        },
        "outputId": "48b59452-1a90-4235-e659-1520248668bc"
      },
      "outputs": [
        {
          "output_type": "stream",
          "name": "stdout",
          "text": [
            "[[1.0 0.0 0.0 ... -0.007687655607443657 -0.15626860163120768\n",
            "  -0.06482037235521627]\n",
            " [1.0 0.0 0.0 ... -0.27916266772745757 -0.15626860163120768\n",
            "  -0.06482037235521627]\n",
            " [1.0 0.0 0.0 ... 0.8026950412304349 -0.15626860163120768\n",
            "  -0.06482037235521627]\n",
            " ...\n",
            " [1.0 0.0 0.0 ... -0.7310536753629666 -0.15626860163120768\n",
            "  -0.06482037235521627]\n",
            " [1.0 0.0 0.0 ... -0.2615040266569551 -0.15626860163120768\n",
            "  -0.06482037235521627]\n",
            " [1.0 0.0 0.0 ... 0.35910146735094506 -0.15626860163120768\n",
            "  -0.06482037235521627]]\n"
          ]
        }
      ],
      "source": [
        "print(x_test)"
      ]
    }
  ],
  "metadata": {
    "colab": {
      "provenance": []
    },
    "kernelspec": {
      "display_name": "Python 3 (ipykernel)",
      "language": "python",
      "name": "python3"
    },
    "language_info": {
      "codemirror_mode": {
        "name": "ipython",
        "version": 3
      },
      "file_extension": ".py",
      "mimetype": "text/x-python",
      "name": "python",
      "nbconvert_exporter": "python",
      "pygments_lexer": "ipython3",
      "version": "3.9.5"
    }
  },
  "nbformat": 4,
  "nbformat_minor": 0
}